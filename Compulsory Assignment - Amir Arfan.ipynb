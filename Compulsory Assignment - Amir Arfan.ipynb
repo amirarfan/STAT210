{
 "cells": [
  {
   "cell_type": "markdown",
   "metadata": {},
   "source": [
    "#### Amir Arfan - amir.inaamullah.arfan@nmbu.no"
   ]
  },
  {
   "cell_type": "markdown",
   "metadata": {},
   "source": [
    "# Compulsory Assignment"
   ]
  },
  {
   "cell_type": "code",
   "execution_count": 1,
   "metadata": {},
   "outputs": [],
   "source": [
    "import math\n",
    "import pandas as pd\n",
    "import statsmodels.api as sm\n",
    "from statsmodels.formula.api import ols, mixedlm\n",
    "from statsmodels.graphics.factorplots import interaction_plot\n",
    "import matplotlib.pyplot as plt\n",
    "import seaborn as sns\n",
    "from scipy import stats\n",
    "from scipy.special import binom\n",
    "from statsmodels.graphics.gofplots import qqplot\n",
    "from statsmodels.stats.multicomp import pairwise_tukeyhsd, MultiComparison\n",
    "import numpy as np"
   ]
  },
  {
   "cell_type": "markdown",
   "metadata": {},
   "source": [
    "## Task 1 - Listeria"
   ]
  },
  {
   "cell_type": "markdown",
   "metadata": {},
   "source": [
    "### a) "
   ]
  },
  {
   "cell_type": "markdown",
   "metadata": {},
   "source": [
    "It is a **Random Effect Model** which can be expressed by this model:\n",
    "$$ y_{ij} = \\mu + \\tau_i + \\epsilon_{ij} \\, \\, , i = 1 ... a, \\, j = 1 ... n$$\n",
    "\n",
    "$y_{ij}$ is the Listeria Number for observation $j$ with the treatment $i$\n",
    "\n",
    "$\\mu$ is overall Listeria Number for all hams\n",
    "\n",
    "$\\tau_i$ is the treatment effect of Ham on the ListeriaNumber and is a random variable\n",
    "\n",
    "$\\epsilon_ij$ is the error between the treatments and is a random variable\n",
    "\n",
    "$\\sigma^2$ is the variance between the errors\n",
    "\n",
    "$\\sigma_t^2$ is the variance between the treatments\n",
    "\n"
   ]
  },
  {
   "cell_type": "markdown",
   "metadata": {},
   "source": [
    "### b) \n",
    "\n",
    "The model assumptions regarding the random error is that it is independent and identically distributed to the normal distribution as random variables and has constant variance. Mathematically expressed as:\n",
    "$$\\epsilon_{ij} \\stackrel{I.I.D}{\\sim} N(0, \\sigma^2)$$\n"
   ]
  },
  {
   "cell_type": "markdown",
   "metadata": {},
   "source": [
    "### c) "
   ]
  },
  {
   "cell_type": "markdown",
   "metadata": {},
   "source": [
    "#### Fit the data"
   ]
  },
  {
   "cell_type": "code",
   "execution_count": 2,
   "metadata": {},
   "outputs": [
    {
     "name": "stdout",
     "output_type": "stream",
     "text": [
      "                            OLS Regression Results                            \n",
      "==============================================================================\n",
      "Dep. Variable:         ListeriaNumber   R-squared:                       0.330\n",
      "Model:                            OLS   Adj. R-squared:                  0.250\n",
      "Method:                 Least Squares   F-statistic:                     4.135\n",
      "Date:                Fri, 21 Aug 2020   Prob (F-statistic):            0.00383\n",
      "Time:                        19:57:37   Log-Likelihood:                -781.14\n",
      "No. Observations:                  48   AIC:                             1574.\n",
      "Df Residuals:                      42   BIC:                             1585.\n",
      "Df Model:                           5                                         \n",
      "Covariance Type:            nonrobust                                         \n",
      "===============================================================================================\n",
      "                                  coef    std err          t      P>|t|      [0.025      0.975]\n",
      "-----------------------------------------------------------------------------------------------\n",
      "Intercept                    1.556e+06   4.36e+05      3.566      0.001    6.75e+05    2.44e+06\n",
      "C(HamTopping, Sum)[S.HamT1] -1.351e+06   9.75e+05     -1.385      0.173   -3.32e+06    6.18e+05\n",
      "C(HamTopping, Sum)[S.HamT2] -1.456e+06   9.75e+05     -1.493      0.143   -3.42e+06    5.13e+05\n",
      "C(HamTopping, Sum)[S.HamT3] -1.293e+06   9.75e+05     -1.325      0.192   -3.26e+06    6.76e+05\n",
      "C(HamTopping, Sum)[S.HamT4]   2.89e+06   9.75e+05      2.963      0.005    9.22e+05    4.86e+06\n",
      "C(HamTopping, Sum)[S.HamT5] -1.506e+06   9.75e+05     -1.544      0.130   -3.47e+06    4.63e+05\n",
      "==============================================================================\n",
      "Omnibus:                       38.732   Durbin-Watson:                   2.503\n",
      "Prob(Omnibus):                  0.000   Jarque-Bera (JB):              130.126\n",
      "Skew:                           2.094   Prob(JB):                     5.54e-29\n",
      "Kurtosis:                       9.894   Cond. No.                         2.45\n",
      "==============================================================================\n",
      "\n",
      "Warnings:\n",
      "[1] Standard Errors assume that the covariance matrix of the errors is correctly specified.\n"
     ]
    }
   ],
   "source": [
    "my_data = pd.read_csv(\"Listeria.csv\", sep=\";\", header=0)\n",
    "mod = ols(\"ListeriaNumber ~ C(HamTopping, Sum)\", data=my_data).fit() # One could have used Mixedlm to indicate that this is a Mixed Linear Model\n",
    "aov = sm.stats.anova_lm(mod)\n",
    "print(mod.summary())"
   ]
  },
  {
   "cell_type": "markdown",
   "metadata": {},
   "source": [
    "#### Check for Normality"
   ]
  },
  {
   "cell_type": "code",
   "execution_count": 3,
   "metadata": {},
   "outputs": [
    {
     "data": {
      "text/plain": [
       "<Figure size 576x360 with 0 Axes>"
      ]
     },
     "metadata": {},
     "output_type": "display_data"
    },
    {
     "data": {
      "image/png": "[encoded data removed]",
      "text/plain": [
       "<Figure size 432x288 with 1 Axes>"
      ]
     },
     "metadata": {
      "needs_background": "light"
     },
     "output_type": "display_data"
    }
   ],
   "source": [
    "plt.figure(figsize=(8,5))\n",
    "fig=qqplot(mod.resid_pearson,line='s',fit='True')\n",
    "plt.xticks(fontsize=13)\n",
    "plt.yticks(fontsize=13)\n",
    "plt.grid(True)\n",
    "plt.show()"
   ]
  },
  {
   "cell_type": "markdown",
   "metadata": {},
   "source": [
    "**Ut i fra QQ-ploten kan man konkludere med at de ikke følger en normalfordeling, hvis de hadde gjort det burde de ha følgt den rette linjen på 45 grader.**"
   ]
  },
  {
   "cell_type": "markdown",
   "metadata": {},
   "source": [
    "#### Check for Constant Variance"
   ]
  },
  {
   "cell_type": "code",
   "execution_count": 4,
   "metadata": {},
   "outputs": [
    {
     "data": {
      "image/png": "[encoded data removed]",
      "text/plain": [
       "<Figure size 576x360 with 1 Axes>"
      ]
     },
     "metadata": {
      "needs_background": "light"
     },
     "output_type": "display_data"
    }
   ],
   "source": [
    "plt.figure(figsize=(8, 5))\n",
    "scat = sns.scatterplot(x=mod.fittedvalues, y=mod.resid)\n",
    "xmin=min(mod.fittedvalues)\n",
    "xmax = max(mod.fittedvalues)\n",
    "plt.hlines(y=0,xmin=xmin*0.9,xmax=xmax*1.1,color='red',linestyle='--',lw=3)\n",
    "plt.xlabel(\"Fitted values\",fontsize=13)\n",
    "plt.ylabel(\"Residuals\",fontsize=13)\n",
    "plt.title(\"Fitted vs. residuals plot\",fontsize=19)\n",
    "plt.grid(True)\n",
    "plt.show()"
   ]
  },
  {
   "cell_type": "markdown",
   "metadata": {},
   "source": [
    "**From the plot one can see the nonconstant variance, so the constant variance assumption is not verified**"
   ]
  },
  {
   "cell_type": "markdown",
   "metadata": {},
   "source": [
    "### d) "
   ]
  },
  {
   "cell_type": "code",
   "execution_count": 5,
   "metadata": {},
   "outputs": [
    {
     "name": "stdout",
     "output_type": "stream",
     "text": [
      "   ListeriaNumber HamTopping\n",
      "0       10.089967      HamT1\n",
      "1       11.695247      HamT1\n",
      "2       13.775834      HamT1\n",
      "3        9.746834      HamT1\n",
      "4       11.302204      HamT1\n"
     ]
    }
   ],
   "source": [
    "log_data = my_data.copy()\n",
    "log_data[\"ListeriaNumber\"] = np.log(my_data[\"ListeriaNumber\"])\n",
    "print(log_data.head(5))"
   ]
  },
  {
   "cell_type": "markdown",
   "metadata": {},
   "source": [
    "### e)"
   ]
  },
  {
   "cell_type": "code",
   "execution_count": 6,
   "metadata": {},
   "outputs": [
    {
     "name": "stdout",
     "output_type": "stream",
     "text": [
      "                            OLS Regression Results                            \n",
      "==============================================================================\n",
      "Dep. Variable:         ListeriaNumber   R-squared:                       0.556\n",
      "Model:                            OLS   Adj. R-squared:                  0.503\n",
      "Method:                 Least Squares   F-statistic:                     10.53\n",
      "Date:                Fri, 21 Aug 2020   Prob (F-statistic):           1.34e-06\n",
      "Time:                        19:57:37   Log-Likelihood:                -89.566\n",
      "No. Observations:                  48   AIC:                             191.1\n",
      "Df Residuals:                      42   BIC:                             202.4\n",
      "Df Model:                           5                                         \n",
      "Covariance Type:            nonrobust                                         \n",
      "===============================================================================================\n",
      "                                  coef    std err          t      P>|t|      [0.025      0.975]\n",
      "-----------------------------------------------------------------------------------------------\n",
      "Intercept                      11.9897      0.241     49.693      0.000      11.503      12.477\n",
      "C(HamTopping, Sum)[S.HamT1]    -0.5193      0.540     -0.963      0.341      -1.608       0.569\n",
      "C(HamTopping, Sum)[S.HamT2]    -1.8769      0.540     -3.479      0.001      -2.966      -0.788\n",
      "C(HamTopping, Sum)[S.HamT3]    -0.3012      0.540     -0.558      0.580      -1.390       0.788\n",
      "C(HamTopping, Sum)[S.HamT4]     2.7649      0.540      5.125      0.000       1.676       3.854\n",
      "C(HamTopping, Sum)[S.HamT5]    -1.8863      0.540     -3.496      0.001      -2.975      -0.797\n",
      "==============================================================================\n",
      "Omnibus:                        1.205   Durbin-Watson:                   2.353\n",
      "Prob(Omnibus):                  0.547   Jarque-Bera (JB):                0.885\n",
      "Skew:                          -0.332   Prob(JB):                        0.642\n",
      "Kurtosis:                       2.966   Cond. No.                         2.45\n",
      "==============================================================================\n",
      "\n",
      "Warnings:\n",
      "[1] Standard Errors assume that the covariance matrix of the errors is correctly specified.\n"
     ]
    }
   ],
   "source": [
    "log_mod = ols(\"ListeriaNumber ~ C(HamTopping, Sum)\", data=log_data).fit() # One could have used Mixedlm to indicate that this is a Mixed Linear Model\n",
    "log_aov = sm.stats.anova_lm(log_mod)\n",
    "print(log_mod.summary())"
   ]
  },
  {
   "cell_type": "markdown",
   "metadata": {},
   "source": [
    "**The interpretation of $y_{it}$ is now the listeria number with a log transformation applied, so when interpreting the results one must consider that the response variable has been log transformed**"
   ]
  },
  {
   "cell_type": "markdown",
   "metadata": {},
   "source": [
    "#### Test for Error Assumption with log transformation"
   ]
  },
  {
   "cell_type": "code",
   "execution_count": 7,
   "metadata": {},
   "outputs": [
    {
     "data": {
      "image/png": "[encoded data removed]",
      "text/plain": [
       "<Figure size 576x360 with 1 Axes>"
      ]
     },
     "metadata": {
      "needs_background": "light"
     },
     "output_type": "display_data"
    }
   ],
   "source": [
    "# Check for constant variance\n",
    "plt.figure(figsize=(8, 5))\n",
    "scat = sns.scatterplot(x=log_mod.fittedvalues, y=log_mod.resid)\n",
    "xmin=min(log_mod.fittedvalues)\n",
    "xmax = max(log_mod.fittedvalues)\n",
    "plt.hlines(y=0,xmin=xmin*0.9,xmax=xmax*1.1,color='red',linestyle='--',lw=3)\n",
    "plt.xlabel(\"Fitted values\",fontsize=13)\n",
    "plt.ylabel(\"Residuals\",fontsize=13)\n",
    "plt.title(\"Fitted vs. residuals plot\",fontsize=19)\n",
    "plt.grid(True)\n",
    "plt.show()"
   ]
  },
  {
   "cell_type": "markdown",
   "metadata": {},
   "source": [
    "**Model seems to be showing constant variance after the log transformation** "
   ]
  },
  {
   "cell_type": "code",
   "execution_count": 8,
   "metadata": {},
   "outputs": [
    {
     "data": {
      "text/plain": [
       "<Figure size 576x360 with 0 Axes>"
      ]
     },
     "metadata": {},
     "output_type": "display_data"
    },
    {
     "data": {
      "image/png": "[encoded data removed]",
      "text/plain": [
       "<Figure size 432x288 with 1 Axes>"
      ]
     },
     "metadata": {
      "needs_background": "light"
     },
     "output_type": "display_data"
    }
   ],
   "source": [
    "# Check for Normality\n",
    "plt.figure(figsize=(8,5))\n",
    "fig=qqplot(log_mod.resid_pearson,line='s',fit='True')\n",
    "plt.xticks(fontsize=13)\n",
    "plt.yticks(fontsize=13)\n",
    "plt.grid(True)\n",
    "plt.show()"
   ]
  },
  {
   "cell_type": "markdown",
   "metadata": {},
   "source": [
    "**Model also seems to be following the normality assumption after the log transformation**"
   ]
  },
  {
   "cell_type": "markdown",
   "metadata": {},
   "source": [
    "### f)"
   ]
  },
  {
   "cell_type": "markdown",
   "metadata": {},
   "source": [
    "#### Hypotesetest\n",
    "$H_0$ : $\\sigma_t^2 = 0$\n",
    "\n",
    "$H_A$ : $\\sigma_t^2 > 0$\n",
    "\n",
    "Using ANOVA to find the p-value:"
   ]
  },
  {
   "cell_type": "code",
   "execution_count": 9,
   "metadata": {},
   "outputs": [
    {
     "name": "stdout",
     "output_type": "stream",
     "text": [
      "                      df      sum_sq    mean_sq          F    PR(>F)\n",
      "C(HamTopping, Sum)   5.0  147.149539  29.429908  10.532437  0.000001\n",
      "Residual            42.0  117.357092   2.794216        NaN       NaN\n"
     ]
    }
   ],
   "source": [
    "print(log_aov)"
   ]
  },
  {
   "cell_type": "markdown",
   "metadata": {},
   "source": [
    "**With a significant-value of 0.01 the null hypothesis is rejected, which indicates that there is an effect of brand**"
   ]
  },
  {
   "cell_type": "markdown",
   "metadata": {},
   "source": [
    "### g)"
   ]
  },
  {
   "cell_type": "code",
   "execution_count": 10,
   "metadata": {},
   "outputs": [
    {
     "name": "stdout",
     "output_type": "stream",
     "text": [
      "\n",
      "\n",
      "mu = 11.99\n",
      "\n",
      "Sigma Squared for Error = 2.79\n",
      "\n",
      "Sigma Squared for Treatment = 3.33\n",
      "\n",
      "\n",
      "\n"
     ]
    }
   ],
   "source": [
    "# Estimates of the parameters\n",
    "mu = log_mod.params[0]\n",
    "# Tau is a random parameter så no need to estimate\n",
    "n = 8\n",
    "sig_er = log_aov.mean_sq[\"Residual\"]\n",
    "sig_tr = (log_aov.mean_sq[\"C(HamTopping, Sum)\"] - sig_er) / n\n",
    "print(f'''\n",
    "\n",
    "mu = {mu:.2f}\n",
    "\n",
    "Sigma Squared for Error = {sig_er:.2f}\n",
    "\n",
    "Sigma Squared for Treatment = {sig_tr:.2f}\n",
    "\n",
    "\n",
    "''')"
   ]
  },
  {
   "cell_type": "markdown",
   "metadata": {},
   "source": [
    "### h)\n"
   ]
  },
  {
   "cell_type": "markdown",
   "metadata": {},
   "source": [
    "Intraclass correlation (ICC) tells you how much similarity there is between values within the treatment group, i.e one could interpret this as how much of the value is inherited by the treatment. The ICC goes from 0 to 1, where 0 would mean that there is little similarity within the groups, and a high ICC indicates high similarity of the values within the groups."
   ]
  },
  {
   "cell_type": "code",
   "execution_count": 11,
   "metadata": {},
   "outputs": [
    {
     "name": "stdout",
     "output_type": "stream",
     "text": [
      "ICC: 0.5437028972510471\n",
      "Confidence Interval is given by [0.24873440653068443, 0.8888267351162339]\n"
     ]
    }
   ],
   "source": [
    "icc = sig_tr / (sig_tr + sig_er)\n",
    "print(f'ICC: {icc}')\n",
    "n= 8\n",
    "L = 1/n * (((log_aov.mean_sq[\"C(HamTopping, Sum)\"]/sig_er)*(1/stats.f.isf(0.025, 5, 42))) - 1)\n",
    "U = 1/n * (((log_aov.mean_sq[\"C(HamTopping, Sum)\"]/sig_er)*(1/stats.f.isf(0.975, 5, 42))) - 1)\n",
    "\n",
    "lower = L / (1+L)\n",
    "upper = U / (1+U)\n",
    "\n",
    "print(f'Confidence Interval is given by [{lower}, {upper}]')"
   ]
  },
  {
   "cell_type": "markdown",
   "metadata": {},
   "source": [
    "**We get a relatively high level of ICC which indicates that there might be significant correlation among observations within the same treatment group**"
   ]
  },
  {
   "cell_type": "markdown",
   "metadata": {},
   "source": [
    "### i)"
   ]
  },
  {
   "cell_type": "code",
   "execution_count": 24,
   "metadata": {},
   "outputs": [
    {
     "name": "stdout",
     "output_type": "stream",
     "text": [
      "Confidence Interval is given by (1555663.0031314504, 1555666.1635352161)\n"
     ]
    }
   ],
   "source": [
    "est_mean = my_data[\"ListeriaNumber\"].mean()\n",
    "alpha = 0.05\n",
    "a = 6\n",
    "n = 8\n",
    "lower = est_mean - (stats.t.isf(alpha/2, a*(n-1)))*math.sqrt((log_aov.mean_sq[\"C(HamTopping, Sum)\"]/(a*n)))\n",
    "upper = est_mean + (stats.t.isf(alpha/2, a*(n-1)))*math.sqrt((log_aov.mean_sq[\"C(HamTopping, Sum)\"]/(a*n)))\n",
    "\n",
    "print(f'Confidence Interval is given by {lower,upper}')"
   ]
  },
  {
   "cell_type": "markdown",
   "metadata": {},
   "source": [
    "**We are 95% certain that the overall mean lies between the lower and upper value of the confidence interval** "
   ]
  },
  {
   "cell_type": "markdown",
   "metadata": {},
   "source": [
    "## Task 2 - Fishing Experiment"
   ]
  },
  {
   "cell_type": "markdown",
   "metadata": {},
   "source": [
    "### a)"
   ]
  },
  {
   "cell_type": "code",
   "execution_count": 13,
   "metadata": {},
   "outputs": [
    {
     "name": "stdout",
     "output_type": "stream",
     "text": [
      "   Yield  Hook   Lake     Time\n",
      "0   14.0  Lure  Lake1  Morning\n",
      "1   15.1  Lure  Lake1  Morning\n",
      "2   12.4  Lure  Lake1  Morning\n",
      "3   12.7  Lure  Lake1  Evening\n",
      "4   17.2  Lure  Lake1  Evening\n"
     ]
    }
   ],
   "source": [
    "fish_data = pd.read_csv(\"FishingExperiment.csv\", sep=\";\", decimal=\",\", header=0)\n",
    "print(fish_data.head(5))"
   ]
  },
  {
   "cell_type": "code",
   "execution_count": 14,
   "metadata": {},
   "outputs": [
    {
     "name": "stdout",
     "output_type": "stream",
     "text": [
      "                                          df      sum_sq    mean_sq  \\\n",
      "C(Hook, Sum)                             1.0   79.053333  79.053333   \n",
      "C(Lake, Sum)                             3.0  125.594167  41.864722   \n",
      "C(Time, Sum)                             1.0    1.840833   1.840833   \n",
      "C(Hook, Sum):C(Lake, Sum)                3.0   99.765000  33.255000   \n",
      "C(Hook, Sum):C(Time, Sum)                1.0    1.920000   1.920000   \n",
      "C(Lake, Sum):C(Time, Sum)                3.0   17.824167   5.941389   \n",
      "C(Hook, Sum):C(Lake, Sum):C(Time, Sum)   3.0    6.381667   2.127222   \n",
      "Residual                                32.0   75.160000   2.348750   \n",
      "\n",
      "                                                F        PR(>F)  \n",
      "C(Hook, Sum)                            33.657619  1.929639e-06  \n",
      "C(Lake, Sum)                            17.824256  5.536719e-07  \n",
      "C(Time, Sum)                             0.783750  3.826009e-01  \n",
      "C(Hook, Sum):C(Lake, Sum)               14.158595  4.808833e-06  \n",
      "C(Hook, Sum):C(Time, Sum)                0.817456  3.726816e-01  \n",
      "C(Lake, Sum):C(Time, Sum)                2.529596  7.472049e-02  \n",
      "C(Hook, Sum):C(Lake, Sum):C(Time, Sum)   0.905683  4.491733e-01  \n",
      "Residual                                      NaN           NaN  \n"
     ]
    }
   ],
   "source": [
    "full_fish_mod = ols(\"Yield ~ C(Hook, Sum)*C(Lake, Sum)*C(Time, Sum)\", data=fish_data).fit()\n",
    "full_fish_aov = sm.stats.anova_lm(full_fish_mod)\n",
    "print(full_fish_aov)"
   ]
  },
  {
   "cell_type": "code",
   "execution_count": 15,
   "metadata": {},
   "outputs": [
    {
     "name": "stdout",
     "output_type": "stream",
     "text": [
      "                             df      sum_sq    mean_sq          F  \\\n",
      "C(Hook, Sum)                1.0   79.053333  79.053333  30.662616   \n",
      "C(Lake, Sum)                3.0  125.594167  41.864722  16.238175   \n",
      "C(Hook, Sum):C(Lake, Sum)   3.0   99.765000  33.255000  12.898701   \n",
      "Residual                   40.0  103.126667   2.578167        NaN   \n",
      "\n",
      "                                 PR(>F)  \n",
      "C(Hook, Sum)               2.109975e-06  \n",
      "C(Lake, Sum)               4.681421e-07  \n",
      "C(Hook, Sum):C(Lake, Sum)  4.889917e-06  \n",
      "Residual                            NaN  \n"
     ]
    }
   ],
   "source": [
    "reduced_fish_mod = ols(\"Yield ~ C(Hook, Sum)*C(Lake, Sum)\", data=fish_data).fit()\n",
    "reduced_fish_aov = sm.stats.anova_lm(reduced_fish_mod)\n",
    "print(reduced_fish_aov)\n"
   ]
  },
  {
   "cell_type": "markdown",
   "metadata": {},
   "source": [
    "#### Partial F-test"
   ]
  },
  {
   "cell_type": "markdown",
   "metadata": {},
   "source": [
    "**$H_0$ : All parameters removed from full model $= 0$**\n",
    "\n",
    "**$H_A$: At least one parameter not removed $\\neq 0$**"
   ]
  },
  {
   "cell_type": "code",
   "execution_count": 16,
   "metadata": {},
   "outputs": [
    {
     "name": "stdout",
     "output_type": "stream",
     "text": [
      "1.4883803441546923\n",
      "2.244396138800042\n",
      "0.200329889163724\n"
     ]
    }
   ],
   "source": [
    "SSer = reduced_fish_aov.sum_sq[\"Residual\"]\n",
    "SSef = full_fish_aov.sum_sq[\"Residual\"]\n",
    "dfer = 40\n",
    "dfef = 32\n",
    "F_0 = ((SSer - SSef)/(dfer - dfef)) / (SSef/dfef)\n",
    "print(F_0)\n",
    "crit_f_value = stats.f.ppf(1-0.05, dfer-dfef, dfef)\n",
    "print(crit_f_value)\n",
    "p_value = stats.f.sf(F_0, dfer-dfef, dfef)\n",
    "print(p_value)"
   ]
  },
  {
   "cell_type": "markdown",
   "metadata": {},
   "source": [
    "**From the P-value one can conclude that the null hypothesis is accepted and thus one can proceed to reduce this model**"
   ]
  },
  {
   "cell_type": "markdown",
   "metadata": {},
   "source": [
    "### b)"
   ]
  },
  {
   "cell_type": "code",
   "execution_count": 17,
   "metadata": {},
   "outputs": [
    {
     "data": {
      "image/png": "[encoded data removed]",
      "text/plain": [
       "<Figure size 432x432 with 1 Axes>"
      ]
     },
     "metadata": {
      "needs_background": "light"
     },
     "output_type": "display_data"
    }
   ],
   "source": [
    "fig, ax = plt.subplots(figsize=(6, 6))\n",
    "fig = interaction_plot(x=fish_data[\"Lake\"], trace=fish_data[\"Hook\"], response=fish_data[\"Yield\"],\n",
    "                        colors=['red', 'blue'], markers=['D', '^'], ms=10, ax=ax)\n",
    "plt.show()"
   ]
  },
  {
   "cell_type": "markdown",
   "metadata": {},
   "source": [
    "From the lack of parallellism one can say that there is potential interaction."
   ]
  },
  {
   "cell_type": "markdown",
   "metadata": {},
   "source": [
    "### c) "
   ]
  },
  {
   "cell_type": "markdown",
   "metadata": {},
   "source": [
    "#### Partial F-test"
   ]
  },
  {
   "cell_type": "markdown",
   "metadata": {},
   "source": [
    "**$H_0$ : All parameters removed from full model $= 0$**\n",
    "\n",
    "**$H_A$: At least one parameter not removed $\\neq 0$**"
   ]
  },
  {
   "cell_type": "code",
   "execution_count": 18,
   "metadata": {},
   "outputs": [
    {
     "name": "stdout",
     "output_type": "stream",
     "text": [
      "                df      sum_sq    mean_sq          F    PR(>F)\n",
      "C(Hook, Sum)   1.0   79.053333  79.053333  16.754228  0.000184\n",
      "C(Lake, Sum)   3.0  125.594167  41.864722   8.872632  0.000108\n",
      "Residual      43.0  202.891667   4.718411        NaN       NaN\n"
     ]
    }
   ],
   "source": [
    "more_reduced_fish_mod = ols(\"Yield ~ C(Hook, Sum)+C(Lake, Sum)\", data=fish_data).fit()\n",
    "more_reduced_fish_aov = sm.stats.anova_lm(more_reduced_fish_mod)\n",
    "print(more_reduced_fish_aov)"
   ]
  },
  {
   "cell_type": "code",
   "execution_count": 19,
   "metadata": {},
   "outputs": [
    {
     "name": "stdout",
     "output_type": "stream",
     "text": [
      "12.89870062706057\n",
      "2.8387453980206443\n",
      "4.88991661963464e-06\n"
     ]
    }
   ],
   "source": [
    "SSer = more_reduced_fish_aov.sum_sq[\"Residual\"]\n",
    "SSef = reduced_fish_aov.sum_sq[\"Residual\"]\n",
    "dfer = 43\n",
    "dfef = 40\n",
    "F_0 = ((SSer - SSef)/(dfer - dfef)) / (SSef/dfef)\n",
    "print(F_0)\n",
    "crit_f_value = stats.f.ppf(1-0.05, dfer-dfef, dfef)\n",
    "print(crit_f_value)\n",
    "p_value = stats.f.sf(F_0, dfer-dfef, dfef)\n",
    "print(p_value)"
   ]
  },
  {
   "cell_type": "markdown",
   "metadata": {},
   "source": [
    "**One can reject the Null Hypothesis by looking at the p-value, meaning that there is most likely interaction between the factors**"
   ]
  },
  {
   "cell_type": "markdown",
   "metadata": {},
   "source": [
    "### d)"
   ]
  },
  {
   "cell_type": "code",
   "execution_count": 20,
   "metadata": {},
   "outputs": [
    {
     "name": "stdout",
     "output_type": "stream",
     "text": [
      "                            OLS Regression Results                            \n",
      "==============================================================================\n",
      "Dep. Variable:                  Yield   R-squared:                       0.747\n",
      "Model:                            OLS   Adj. R-squared:                  0.703\n",
      "Method:                 Least Squares   F-statistic:                     16.87\n",
      "Date:                Fri, 21 Aug 2020   Prob (F-statistic):           3.86e-10\n",
      "Time:                        19:57:38   Log-Likelihood:                -86.463\n",
      "No. Observations:                  48   AIC:                             188.9\n",
      "Df Residuals:                      40   BIC:                             203.9\n",
      "Df Model:                           7                                         \n",
      "Covariance Type:            nonrobust                                         \n",
      "==============================================================================================================\n",
      "                                                 coef    std err          t      P>|t|      [0.025      0.975]\n",
      "--------------------------------------------------------------------------------------------------------------\n",
      "Intercept                                      9.9292      0.232     42.843      0.000       9.461      10.398\n",
      "C(Hook, Sum)[S.Lure]                           1.2833      0.232      5.537      0.000       0.815       1.752\n",
      "C(Lake, Sum)[S.Lake1]                          2.1458      0.401      5.346      0.000       1.335       2.957\n",
      "C(Lake, Sum)[S.Lake2]                         -2.1875      0.401     -5.449      0.000      -2.999      -1.376\n",
      "C(Lake, Sum)[S.Lake3]                          0.7542      0.401      1.879      0.068      -0.057       1.565\n",
      "C(Hook, Sum)[S.Lure]:C(Lake, Sum)[S.Lake1]     0.7750      0.401      1.931      0.061      -0.036       1.586\n",
      "C(Hook, Sum)[S.Lure]:C(Lake, Sum)[S.Lake2]    -0.8250      0.401     -2.055      0.046      -1.636      -0.014\n",
      "C(Hook, Sum)[S.Lure]:C(Lake, Sum)[S.Lake3]     1.9000      0.401      4.733      0.000       1.089       2.711\n",
      "==============================================================================\n",
      "Omnibus:                        0.193   Durbin-Watson:                   2.316\n",
      "Prob(Omnibus):                  0.908   Jarque-Bera (JB):                0.221\n",
      "Skew:                           0.136   Prob(JB):                        0.895\n",
      "Kurtosis:                       2.808   Cond. No.                         2.00\n",
      "==============================================================================\n",
      "\n",
      "Warnings:\n",
      "[1] Standard Errors assume that the covariance matrix of the errors is correctly specified.\n"
     ]
    }
   ],
   "source": [
    "print(reduced_fish_mod.summary())"
   ]
  },
  {
   "cell_type": "code",
   "execution_count": 21,
   "metadata": {},
   "outputs": [
    {
     "name": "stdout",
     "output_type": "stream",
     "text": [
      "\n",
      "\n",
      "\n",
      "For Lake3 = 0.75\n",
      "\n",
      "For interaction-term between Lake2 and Wobler = 0.82\n",
      "\n"
     ]
    }
   ],
   "source": [
    "Lake3 = reduced_fish_mod.params[4]\n",
    "Lake2_Wobler = abs(reduced_fish_mod.params[6])\n",
    "print(f\"\"\"\n",
    "\n",
    "\n",
    "For Lake3 = {Lake3:.2f}\n",
    "\n",
    "For interaction-term between Lake2 and Wobler = {Lake2_Wobler:.2f}\n",
    "\"\"\")"
   ]
  },
  {
   "cell_type": "markdown",
   "metadata": {},
   "source": [
    "### e)"
   ]
  },
  {
   "cell_type": "code",
   "execution_count": 22,
   "metadata": {},
   "outputs": [
    {
     "name": "stdout",
     "output_type": "stream",
     "text": [
      "      Multiple Comparison of Means - Tukey HSD, FWER=0.05       \n",
      "================================================================\n",
      "   group1       group2    meandiff p-adj   lower   upper  reject\n",
      "----------------------------------------------------------------\n",
      "  Lure&Lake1   Lure&Lake2  -5.9333  0.001 -8.8966 -2.9701   True\n",
      "  Lure&Lake1   Lure&Lake3  -0.2667    0.9 -3.2299  2.6966  False\n",
      "  Lure&Lake1   Lure&Lake4  -5.4833  0.001 -8.4466 -2.5201   True\n",
      "  Lure&Lake1 Wobler&Lake1  -4.1167 0.0016 -7.0799 -1.1534   True\n",
      "  Lure&Lake1 Wobler&Lake2    -6.85  0.001 -9.8133 -3.8867   True\n",
      "  Lure&Lake1 Wobler&Lake3  -6.6333  0.001 -9.5966 -3.6701   True\n",
      "  Lure&Lake1 Wobler&Lake4    -4.35  0.001 -7.3133 -1.3867   True\n",
      "  Lure&Lake2   Lure&Lake3   5.6667  0.001  2.7034  8.6299   True\n",
      "  Lure&Lake2   Lure&Lake4     0.45    0.9 -2.5133  3.4133  False\n",
      "  Lure&Lake2 Wobler&Lake1   1.8167 0.5177 -1.1466  4.7799  False\n",
      "  Lure&Lake2 Wobler&Lake2  -0.9167    0.9 -3.8799  2.0466  False\n",
      "  Lure&Lake2 Wobler&Lake3     -0.7    0.9 -3.6633  2.2633  False\n",
      "  Lure&Lake2 Wobler&Lake4   1.5833 0.6604 -1.3799  4.5466  False\n",
      "  Lure&Lake3   Lure&Lake4  -5.2167  0.001 -8.1799 -2.2534   True\n",
      "  Lure&Lake3 Wobler&Lake1    -3.85 0.0038 -6.8133 -0.8867   True\n",
      "  Lure&Lake3 Wobler&Lake2  -6.5833  0.001 -9.5466 -3.6201   True\n",
      "  Lure&Lake3 Wobler&Lake3  -6.3667  0.001 -9.3299 -3.4034   True\n",
      "  Lure&Lake3 Wobler&Lake4  -4.0833 0.0018 -7.0466 -1.1201   True\n",
      "  Lure&Lake4 Wobler&Lake1   1.3667 0.7928 -1.5966  4.3299  False\n",
      "  Lure&Lake4 Wobler&Lake2  -1.3667 0.7928 -4.3299  1.5966  False\n",
      "  Lure&Lake4 Wobler&Lake3    -1.15    0.9 -4.1133  1.8133  False\n",
      "  Lure&Lake4 Wobler&Lake4   1.1333    0.9 -1.8299  4.0966  False\n",
      "Wobler&Lake1 Wobler&Lake2  -2.7333 0.0892 -5.6966  0.2299  False\n",
      "Wobler&Lake1 Wobler&Lake3  -2.5167 0.1478 -5.4799  0.4466  False\n",
      "Wobler&Lake1 Wobler&Lake4  -0.2333    0.9 -3.1966  2.7299  False\n",
      "Wobler&Lake2 Wobler&Lake3   0.2167    0.9 -2.7466  3.1799  False\n",
      "Wobler&Lake2 Wobler&Lake4      2.5 0.1534 -0.4633  5.4633  False\n",
      "Wobler&Lake3 Wobler&Lake4   2.2833 0.2404 -0.6799  5.2466  False\n",
      "----------------------------------------------------------------\n"
     ]
    }
   ],
   "source": [
    "comparisons = MultiComparison(fish_data[\"Yield\"],groups=fish_data[\"Hook\"]+'&' + fish_data[\"Lake\"])\n",
    "print(comparisons.tukeyhsd(alpha=0.05).summary())\n"
   ]
  }
 ],
 "metadata": {
  "kernelspec": {
   "display_name": "Python 3",
   "language": "python",
   "name": "python3"
  },
  "language_info": {
   "codemirror_mode": {
    "name": "ipython",
    "version": 3
   },
   "file_extension": ".py",
   "mimetype": "text/x-python",
   "name": "python",
   "nbconvert_exporter": "python",
   "pygments_lexer": "ipython3",
   "version": "3.8.3"
  }
 },
 "nbformat": 4,
 "nbformat_minor": 4
}
